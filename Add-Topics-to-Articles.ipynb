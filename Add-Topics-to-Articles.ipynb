{
 "cells": [
  {
   "cell_type": "code",
   "execution_count": null,
   "metadata": {},
   "outputs": [],
   "source": [
    "from bertopic import BERTopic\n",
    "from flair.embeddings import TransformerDocumentEmbeddings\n",
    "from hdbscan import HDBSCAN\n",
    "import pandas as pd\n",
    "import numpy as np\n",
    "import seaborn as sns\n",
    "from sklearn.feature_extraction.text import CountVectorizer\n",
    "from umap import UMAP\n"
   ]
  },
  {
   "cell_type": "code",
   "execution_count": null,
   "metadata": {},
   "outputs": [],
   "source": [
    "base_folder = \"data\""
   ]
  },
  {
   "attachments": {},
   "cell_type": "markdown",
   "metadata": {},
   "source": [
    "\n",
    "# TOPIC VARIETY\n",
    "\n",
    "In this notebook, every article is assigned a single topic, corresponding to a news story (COVID-19, elections, ...).\n",
    "To find these topics, we train a BERTopic Topic Model.\n",
    "\n",
    "## Input Data\n",
    "\n",
    "* `item_metadata.csv` - Metadata of all articles that were recommended\n",
    "    * item (int) - Item identifier\n",
    "    * text (str) - Article text\n",
    "\n",
    "## Output\n",
    "\n",
    "This notebook will write 2 files to the `base_folder`:\n",
    "\n",
    "* `bertopic_base_model` - The trained BERTopic model\n",
    "* `item_metadata_w_tags.csv` - Item metadata augmented with a tag column containing a Topic ID.\n",
    "    * item (int)\n",
    "    * text (str)\n",
    "    * tag (int)"
   ]
  },
  {
   "cell_type": "code",
   "execution_count": null,
   "metadata": {},
   "outputs": [],
   "source": [
    "\n",
    "recommended_articles = pd.read_csv(f\"{base_folder}/item_metadata.csv\")[['item', 'text']]\n",
    "recommended_articles.head()"
   ]
  },
  {
   "cell_type": "code",
   "execution_count": null,
   "metadata": {},
   "outputs": [],
   "source": [
    "# Change to the correct language\n",
    "from spacy.lang.en import STOP_WORDS\n"
   ]
  },
  {
   "cell_type": "code",
   "execution_count": null,
   "metadata": {},
   "outputs": [],
   "source": [
    "\n",
    "hdbscan_model = HDBSCAN(\n",
    "    min_cluster_size=10,\n",
    "    min_samples=10,\n",
    "    metric='euclidean',\n",
    "    cluster_selection_method='eom',\n",
    "    prediction_data=True\n",
    ")\n",
    "\n",
    "topic_model = BERTopic(\n",
    "    language='english', # Change this to multilingual when text is non-english\n",
    "    min_topic_size=10, \n",
    "    vectorizer_model=CountVectorizer(stop_words='english', ngram_range=(1,2)),\n",
    "    hdbscan_model=hdbscan_model\n",
    ")\n"
   ]
  },
  {
   "cell_type": "code",
   "execution_count": null,
   "metadata": {},
   "outputs": [],
   "source": [
    "\n",
    "\n",
    "docs = recommended_articles[\"text\"].values\n",
    "topics, probs = topic_model.fit_transform(docs)\n",
    "recommended_articles[\"tag\"] = topics\n"
   ]
  },
  {
   "cell_type": "code",
   "execution_count": null,
   "metadata": {},
   "outputs": [],
   "source": [
    "# Store the model so we can use it in the future.\n",
    "model_name = \"bertopic_base_model\"\n",
    "topic_model.save(f\"{base_folder}/{model_name}\")\n"
   ]
  },
  {
   "cell_type": "code",
   "execution_count": null,
   "metadata": {},
   "outputs": [],
   "source": [
    "recommended_articles[[\"item\", \"text\", \"tag\"]].to_csv(f\"{base_folder}/item_metadata_w_tags.csv\", index=False)"
   ]
  },
  {
   "cell_type": "code",
   "execution_count": null,
   "metadata": {},
   "outputs": [],
   "source": []
  }
 ],
 "metadata": {
  "kernelspec": {
   "display_name": "bubbles",
   "language": "python",
   "name": "python3"
  },
  "language_info": {
   "codemirror_mode": {
    "name": "ipython",
    "version": 3
   },
   "file_extension": ".py",
   "mimetype": "text/x-python",
   "name": "python",
   "nbconvert_exporter": "python",
   "pygments_lexer": "ipython3",
   "version": "3.9.16"
  },
  "orig_nbformat": 4
 },
 "nbformat": 4,
 "nbformat_minor": 2
}
