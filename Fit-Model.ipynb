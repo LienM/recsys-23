{
 "cells": [
  {
   "cell_type": "code",
   "execution_count": null,
   "metadata": {},
   "outputs": [],
   "source": [
    "import arviz as az\n",
    "import bambi as bmb\n",
    "import matplotlib.pyplot as plt\n",
    "import numpy as np\n",
    "import pandas as pd\n",
    "\n",
    "%config InlineBackend.figure_format = 'retina'\n",
    "az.style.use(\"arviz-darkgrid\")"
   ]
  },
  {
   "cell_type": "code",
   "execution_count": null,
   "metadata": {},
   "outputs": [],
   "source": [
    "base_folder = \"data\""
   ]
  },
  {
   "attachments": {},
   "cell_type": "markdown",
   "metadata": {},
   "source": [
    "# Fit Regression Model\n",
    "\n",
    "\n",
    "## Input\n",
    "\n",
    "* `samples_for_model.csv` - Observations \n",
    "    * user (int) - User identifier\n",
    "    * week_index (int) - Week in the study period\n",
    "    * count (int) - Number of items recommended to the user in this week\n",
    "    * weeks_since_signup (int) - Number of weeks since the user's first interaction\n",
    "    * variety (int) - Variety in topics or political\n",
    "\n",
    "## Output\n",
    "\n",
    "* `exp_coeff_table.csv` - Table with exponentiated coefficients (Intercept and weeks_since_signup)\n",
    "* `other_coeff_table.csv` - Table with all coefficients as estimated by the model"
   ]
  },
  {
   "cell_type": "code",
   "execution_count": null,
   "metadata": {},
   "outputs": [],
   "source": [
    "df = pd.read_csv(f\"{base_folder}/samples_for_model.csv\")"
   ]
  },
  {
   "cell_type": "markdown",
   "metadata": {},
   "source": [
    "# Modeling"
   ]
  },
  {
   "cell_type": "code",
   "execution_count": null,
   "metadata": {},
   "outputs": [],
   "source": [
    "# GLMM model configuration\n",
    "formula = \"\"\"\n",
    "variety ~ \n",
    "1 \n",
    "+ (weeks_since_signup) \n",
    "+ (np.log(count)) \n",
    "+ (1|user) \n",
    "+ (1|week_index)\n",
    "\"\"\" "
   ]
  },
  {
   "cell_type": "code",
   "execution_count": null,
   "metadata": {},
   "outputs": [],
   "source": [
    "# Parameters for the experiment\n",
    "draws = 1000\n",
    "tune = 3000"
   ]
  },
  {
   "cell_type": "code",
   "execution_count": null,
   "metadata": {},
   "outputs": [],
   "source": [
    "# \n",
    "model = bmb.Model(\n",
    "    formula,\n",
    "    df,\n",
    "    family=\"negativebinomial\",\n",
    "    link=\"log\",\n",
    "    dropna=True,\n",
    "    auto_scale=True\n",
    ")\n"
   ]
  },
  {
   "cell_type": "code",
   "execution_count": null,
   "metadata": {},
   "outputs": [],
   "source": [
    "trace = model.fit(draws=draws, tune=tune, target_accept=0.9)"
   ]
  },
  {
   "cell_type": "code",
   "execution_count": null,
   "metadata": {},
   "outputs": [],
   "source": [
    "model.plot_priors()\n",
    "plt.savefig(f'{base_folder}/plot_priors.pdf', dpi=300)"
   ]
  },
  {
   "cell_type": "code",
   "execution_count": null,
   "metadata": {},
   "outputs": [],
   "source": [
    "az.plot_trace(trace, var_names=\n",
    "              [\"Intercept\", \"weeks_since_signup\", \"np.log(count)\", \"1|week_index\", \"1|week_index_sigma\"])\n",
    "plt.savefig(f'{base_folder}/plot_trace.pdf', dpi=300)\n"
   ]
  },
  {
   "cell_type": "code",
   "execution_count": null,
   "metadata": {},
   "outputs": [],
   "source": [
    "exp_coeff_table = az.summary(\n",
    "    np.exp(trace.posterior), var_names=[\n",
    "        \"Intercept\",\n",
    "        \"weeks_since_signup\", \n",
    "    ]\n",
    ")\n"
   ]
  },
  {
   "cell_type": "code",
   "execution_count": null,
   "metadata": {},
   "outputs": [],
   "source": [
    "exp_coeff_table"
   ]
  },
  {
   "cell_type": "code",
   "execution_count": null,
   "metadata": {},
   "outputs": [],
   "source": [
    "exp_coeff_table.to_csv(f\"{base_folder}/exp_coeff_table.csv\", header=True, index=True)"
   ]
  },
  {
   "cell_type": "code",
   "execution_count": null,
   "metadata": {},
   "outputs": [],
   "source": [
    "coeff_table = az.summary(trace.posterior, var_names=[\n",
    "    \"Intercept\", \n",
    "    \"weeks_since_signup\", \n",
    "    \"np.log(count)\", \n",
    "    \"1|week_index_sigma\", \n",
    "    \"1|user_sigma\",\n",
    "    \"variety_alpha\"\n",
    "])"
   ]
  },
  {
   "cell_type": "code",
   "execution_count": null,
   "metadata": {},
   "outputs": [],
   "source": [
    "coeff_table"
   ]
  },
  {
   "cell_type": "code",
   "execution_count": null,
   "metadata": {},
   "outputs": [],
   "source": [
    "coeff_table.to_csv(f\"{base_folder}/other_coeff_table.csv\", header=True, index=False)"
   ]
  },
  {
   "cell_type": "code",
   "execution_count": null,
   "metadata": {},
   "outputs": [],
   "source": []
  }
 ],
 "metadata": {
  "kernelspec": {
   "display_name": "bubbles",
   "language": "python",
   "name": "python3"
  },
  "language_info": {
   "codemirror_mode": {
    "name": "ipython",
    "version": 3
   },
   "file_extension": ".py",
   "mimetype": "text/x-python",
   "name": "python",
   "nbconvert_exporter": "python",
   "pygments_lexer": "ipython3",
   "version": "3.10.9"
  },
  "orig_nbformat": 4
 },
 "nbformat": 4,
 "nbformat_minor": 2
}
