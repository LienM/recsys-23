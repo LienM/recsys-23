{
 "cells": [
  {
   "cell_type": "code",
   "execution_count": null,
   "metadata": {},
   "outputs": [],
   "source": [
    "from functools import partial\n",
    "import pandas as pd\n",
    "import re\n",
    "import yaml"
   ]
  },
  {
   "attachments": {},
   "cell_type": "markdown",
   "metadata": {},
   "source": [
    "\n",
    "# POLITICAL VARIETY\n",
    "\n",
    "In this notebook, every article is assigned the viewpoints represented in the article, represented by the political parties mentioned in the article.\n",
    "\n",
    "To find out which political parties are mentioned, we use a manually defined regular expression that looks for party names, abbreviations or person names of politicians in the text, and maps those to the political party they represent.\n",
    "\n",
    "## Input Data\n",
    "\n",
    "* `item_metadata.csv` - Metadata of all articles that were recommended\n",
    "    * item (int) - Item identifier\n",
    "    * text (str) - Article text\n",
    "\n",
    "   \n",
    "* `political_parties.json` - JSON containing the party names, abbreviations and person names to look for and the political party they represent.\n",
    "\n",
    "eg. \n",
    "\n",
    "```\n",
    "{\n",
    "    \"Fratelli d'Italia\": \"Fratelli d'Italia\",\n",
    "    \"Giorgia Meloni\": \"Fratelli d'Italia\",\n",
    "    \"Fratelli d&rsquo;Italia\": \"Fratelli d'Italia\",\n",
    "    \"DB\": \"Fratelli d'Italia\"\n",
    "}\n",
    "```\n",
    "\n",
    "## Output\n",
    "\n",
    "This notebook will write 2 files to the `base_folder`:\n",
    "\n",
    "* `item_metadata_w_tags.csv` - Item metadata augmented with a tag column containing a Topic ID.\n",
    "    * item (int)\n",
    "    * text (string)\n",
    "    * tag (str)"
   ]
  },
  {
   "cell_type": "code",
   "execution_count": null,
   "metadata": {},
   "outputs": [],
   "source": [
    "base_folder = \"data\""
   ]
  },
  {
   "cell_type": "code",
   "execution_count": null,
   "metadata": {},
   "outputs": [],
   "source": [
    "recommended_articles = pd.read_csv(f\"{base_folder}/item_metadata.csv\").fillna(\"\")"
   ]
  },
  {
   "cell_type": "code",
   "execution_count": null,
   "metadata": {},
   "outputs": [],
   "source": [
    "mapping = yaml.safe_load(open(f\"{base_folder}/political_parties.json\", 'r'))"
   ]
  },
  {
   "cell_type": "code",
   "execution_count": null,
   "metadata": {},
   "outputs": [],
   "source": [
    "def check_regex(x):\n",
    "    r =  re.search( r'\\W(' + r'|'.join(mapping.keys()) + r')\\W' , x.lower())\n",
    "    if r:\n",
    "        return r.groups()\n",
    "    else:\n",
    "        return None"
   ]
  },
  {
   "cell_type": "code",
   "execution_count": null,
   "metadata": {},
   "outputs": [],
   "source": [
    "# Find all the matched groups (potentially multiple per item)\n",
    "recommended_articles[\"political\"] = recommended_articles[\"text\"].map(check_regex)"
   ]
  },
  {
   "cell_type": "code",
   "execution_count": null,
   "metadata": {},
   "outputs": [],
   "source": [
    "# Check amount of items that received a topic\n",
    "(~recommended_articles[\"political\"].isna()).sum()"
   ]
  },
  {
   "cell_type": "code",
   "execution_count": null,
   "metadata": {},
   "outputs": [],
   "source": [
    "recommended_articles.groupby('political').item.count()"
   ]
  },
  {
   "cell_type": "code",
   "execution_count": null,
   "metadata": {},
   "outputs": [],
   "source": [
    "# Map to the political entities identified as values in the mapping.\n",
    "recommended_political_entities = recommended_articles.explode(\"political\")\n",
    "recommended_political_entities[\"mapped_political\"] = recommended_political_entities[\"political\"].map(lambda x: mapping.get(x))\n",
    "recommended_political_entities[\"mapped_political\"].unique()"
   ]
  },
  {
   "cell_type": "code",
   "execution_count": null,
   "metadata": {},
   "outputs": [],
   "source": [
    "item_metadata_w_tags = recommended_political_entities.dropna()[[\"item\", \"text\", \"mapped_political\"]].rename(columns={\"mapped_political\": \"tag\"})"
   ]
  },
  {
   "cell_type": "code",
   "execution_count": null,
   "metadata": {},
   "outputs": [],
   "source": [
    "item_metadata_w_tags.to_csv(f\"{base_folder}/item_metadata_w_tags.csv\", index=False)"
   ]
  },
  {
   "cell_type": "code",
   "execution_count": null,
   "metadata": {},
   "outputs": [],
   "source": []
  }
 ],
 "metadata": {
  "kernelspec": {
   "display_name": "bubbles",
   "language": "python",
   "name": "python3"
  },
  "language_info": {
   "codemirror_mode": {
    "name": "ipython",
    "version": 3
   },
   "file_extension": ".py",
   "mimetype": "text/x-python",
   "name": "python",
   "nbconvert_exporter": "python",
   "pygments_lexer": "ipython3",
   "version": "3.10.9"
  },
  "orig_nbformat": 4
 },
 "nbformat": 4,
 "nbformat_minor": 2
}
